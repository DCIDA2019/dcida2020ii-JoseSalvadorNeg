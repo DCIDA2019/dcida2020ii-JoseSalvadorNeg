{
 "cells": [
  {
   "cell_type": "code",
   "execution_count": 3,
   "metadata": {},
   "outputs": [],
   "source": [
    "import numpy as np\n",
    "import matplotlib.pyplot as plt\n",
    "import math"
   ]
  },
  {
   "cell_type": "markdown",
   "metadata": {},
   "source": [
    "1.- Escribe un código simple en python, para resolver la ecuación de movimiento de un péndulo simple utilizando la sintaxis básica, i.e cómo si fuera C/fortran"
   ]
  },
  {
   "cell_type": "code",
   "execution_count": 44,
   "metadata": {},
   "outputs": [
    {
     "name": "stdout",
     "output_type": "stream",
     "text": [
      "24.8 ms ± 1.23 ms per loop (mean ± std. dev. of 7 runs, 10 loops each)\n"
     ]
    },
    {
     "data": {
      "image/png": "[encoded data removed]",
      "text/plain": [
       "<Figure size 432x288 with 1 Axes>"
      ]
     },
     "metadata": {
      "needs_background": "light"
     },
     "output_type": "display_data"
    }
   ],
   "source": [
    "%%timeit #Para obtener el tiempo de ejecución del programa\n",
    "\n",
    "g = 9.81 #Constantes\n",
    "l = 1 #Longitud de la cuerda del p\n",
    "\n",
    "theta = 0.5 #Ángulo inicial (radianes)\n",
    "omega = 0 #Frecuencia ángular inicial\n",
    "t0 = 0 #Tiempo inicial (segundos)\n",
    "tf = 10 #Tiempo final (segundos)\n",
    "h = 0.01 #Incremento\n",
    "datos_t0 = [] #Arreglos vacíos para guardar los valores de tiempo y ángulo del péndulo\n",
    "datos_theta = []\n",
    "\n",
    "def euler(theta, omega, h):\n",
    "    dtheta = omega*h\n",
    "    domega = -(g/l)*np.sin(theta)*h\n",
    "    theta = theta + dtheta\n",
    "    omega = omega + domega\n",
    "    return (theta, omega)\n",
    "    \n",
    "while t0 < tf:\n",
    "    (theta, omega) = euler(theta, omega, h)\n",
    "    t0 = t0 + h\n",
    "    datos_t0.append(t0)\n",
    "    datos_theta.append(theta)\n",
    "\n",
    "plt.plot(datos_t0, datos_theta, 'r')\n",
    "plt.show"
   ]
  },
  {
   "cell_type": "markdown",
   "metadata": {},
   "source": [
    "2.- Reescribe dicho código aprovechando el manejo de arreglos de numpy."
   ]
  },
  {
   "cell_type": "code",
   "execution_count": 46,
   "metadata": {},
   "outputs": [
    {
     "name": "stdout",
     "output_type": "stream",
     "text": [
      "24.3 ms ± 509 µs per loop (mean ± std. dev. of 7 runs, 10 loops each)\n"
     ]
    },
    {
     "data": {
      "image/png": "[encoded data removed]",
      "text/plain": [
       "<Figure size 432x288 with 1 Axes>"
      ]
     },
     "metadata": {
      "needs_background": "light"
     },
     "output_type": "display_data"
    }
   ],
   "source": [
    "%%timeit #Para obtener el tiempo de ejecución del programa\n",
    "\n",
    "g = 9.81 #Constantes\n",
    "l = 1 #Longitud de la cuerda del péndulo\n",
    "\n",
    "theta = 0.5 #Ángulo inicial\n",
    "omega = 0 #Frecuencia ángular inicial\n",
    "t0 = 0 #Tiempo inicial\n",
    "tf = 10 #Tiempo final\n",
    "h = 0.01 #Incremento\n",
    "t = np.arange(t0, tf, h) #Arreglo de números de tiempo inicial a tiempo final en base al incremento\n",
    "datos_theta = np.zeros(1000) #Creamos dos arreglos para los datos del ángulo y de la frecuencia, llenos de ceros que llenaremos luego en un ciclo for\n",
    "datos_omega = np.zeros(1000)\n",
    "datos_theta[0] = theta #Asignamos los valores iniciales al primer elemento de los arreglos\n",
    "datos_omega[0] = omega\n",
    "\n",
    "for i in range(999):\n",
    "    dtheta = datos_omega[i]*h\n",
    "    domega = -(g/l)*np.sin(datos_theta[i])*h\n",
    "    datos_theta[i+1] = datos_theta[i] + dtheta\n",
    "    datos_omega[i+1] = datos_omega[i] + domega\n",
    "\n",
    "plt.plot(t, datos_theta, 'g')\n",
    "plt.show"
   ]
  },
  {
   "cell_type": "markdown",
   "metadata": {},
   "source": [
    "3.- En ambos casos muestra tus resultados usando tablas y gráficos. Compara los resultados, en terminos de los tiempos de ejecución. Puedes elegir libremente los parámetros para el péndulo."
   ]
  },
  {
   "cell_type": "markdown",
   "metadata": {},
   "source": [
    "Ya se ha hecho esto de forma individual en ambos programas. Se reporta un tiempo de 24.8 ms ± 1.23 ms por loop en el programa sin el uso de arreglos de numpy, mientras que en el programa optimizado con arreglos de NumPy tenemos un tiempo de 24.3 ms ± 509 µs por loop (Usando los mismos parámetros en ambos casos)."
   ]
  }
 ],
 "metadata": {
  "kernelspec": {
   "display_name": "Python 3",
   "language": "python",
   "name": "python3"
  },
  "language_info": {
   "codemirror_mode": {
    "name": "ipython",
    "version": 3
   },
   "file_extension": ".py",
   "mimetype": "text/x-python",
   "name": "python",
   "nbconvert_exporter": "python",
   "pygments_lexer": "ipython3",
   "version": "3.8.5"
  }
 },
 "nbformat": 4,
 "nbformat_minor": 4
}
