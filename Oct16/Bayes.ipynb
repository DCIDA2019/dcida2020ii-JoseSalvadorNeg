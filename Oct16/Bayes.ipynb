{
 "cells": [
  {
   "cell_type": "markdown",
   "metadata": {},
   "source": [
    "1. Derivar el teorema de Bayes usando $p(x,y) = p(y,x)$"
   ]
  },
  {
   "cell_type": "markdown",
   "metadata": {},
   "source": [
    "Tenemos que $p(x,y) = p(x|y) p(y)$, por lo tanto $p(x|y) p(y) = p(y|x) p(x)$. Dividir ambos lados por $p(x)$ nos lleva a $p(y|x) = \\frac{p(x|y) p(y)}{p(x)}$, que es el teorema de Bayes."
   ]
  },
  {
   "cell_type": "markdown",
   "metadata": {},
   "source": [
    "2. Las catafixias de Chabelo: Hay 3 puertas. Detrás de una hay un premio. Supongamos que eliges la puerta 2. Chabelo abre la puerta 1 y allí no hay premio. ¿Te quedas con tu elección original o cambias a la puerta 3?"
   ]
  },
  {
   "cell_type": "markdown",
   "metadata": {},
   "source": [
    "Es necesario utilizar el teorema de Bayes para obtener la probabilidad de que el premio se encuentre en la puerta 2 dado que Chabelo abrió la puerta 1. Denotamos la probabilidad de que el premio se encuentre en la primer puerta como $p(a)$, la probabilidad de que el premio se encuentre en la segunda puerta como $p(b)$ y la probabilidad de que el premio se encuentre en la tercer puerta como $p(c)$."
   ]
  },
  {
   "cell_type": "markdown",
   "metadata": {},
   "source": [
    "Denotamos la probabilidad de que Chabelo abra la primer puerta como $P(A)$. Entonces buscamos\n",
    "\n",
    "$\\begin{equation}\n",
    "p(b|A) = \\frac{p(A|b) p(b)}{p(A)}\n",
    "\\end{equation}$\n",
    "\n",
    "Recordemos la marginalización en probabilidad, de modo que $p(A) = p(A|a) p(a) + p(A|b) p(b) + p(A|c) p(c)$. Sustituimos\n",
    "\n",
    "$\\begin{equation}\n",
    "p(b|A) = \\frac{p(A|b) p(b)}{p(A|a) p(a) + p(A|b) p(b) + p(A|c) p(c)}\n",
    "\\end{equation}$\n",
    "\n",
    "Tenemos los siguientes valores para las diversas probabilidades: $p(a) = p(b) = p(c) = \\frac{1}{3}$. La probabilidad de que Chabelo abra la puerta 1 dado que el premio está en la puerta 1 es nula ($p(A|a) = 0$), pues Chabelo debe abrir una puerta que no contenga el premio (él conoce de antemano qué puerta contiene el premio). La probabilidad de que Chabelo abra la puerta 1 dado que el premio está en la puerta 2 es 1/2, pues puede escoger entre abrir la puerta 1 o la puerta 3 ($p(A|b) = \\frac{1}{2}$). Por último, la probabiidad de que Chabelo abra la puerta 1 dado que el premio está en la puerta 3 es 1, porque Chabelo no puede abrir la puerta que escogimos (puerta 2) y tampoco puede abrir la puerta del premio, que en este caso es la puerta 3, por ende, la única opción que queda es abrir la puerta 1 ($p(A|c) = 1$). Entonces\n",
    "\n",
    "$\\begin{equation}\n",
    "p(b|A) = \\frac{(1/2) (1/3)}{(0) (1/3) + (1/2) (1/3) + (1) (1/3)} = \\frac{1/6}{1/2} = \\frac{1}{3}\n",
    "\\end{equation}$\n",
    "\n",
    "Entonces, la probabilidad de que el premio esté en la segunda puerta, dado este escenario, es $\\frac{1}{3}$. La otra posibilidad es que el premio esté en la tercer puerta, y de forma complementaria esta debe de ser $\\frac{2}{3}$. La conclusión es que cambiar a la puerta tres es la opción más sensata."
   ]
  },
  {
   "cell_type": "code",
   "execution_count": null,
   "metadata": {},
   "outputs": [],
   "source": []
  }
 ],
 "metadata": {
  "kernelspec": {
   "display_name": "Python 3",
   "language": "python",
   "name": "python3"
  },
  "language_info": {
   "codemirror_mode": {
    "name": "ipython",
    "version": 3
   },
   "file_extension": ".py",
   "mimetype": "text/x-python",
   "name": "python",
   "nbconvert_exporter": "python",
   "pygments_lexer": "ipython3",
   "version": "3.8.5"
  }
 },
 "nbformat": 4,
 "nbformat_minor": 4
}
