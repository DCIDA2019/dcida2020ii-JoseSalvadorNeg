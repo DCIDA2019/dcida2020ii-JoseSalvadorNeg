{
 "cells": [
  {
   "cell_type": "code",
   "execution_count": 2,
   "metadata": {},
   "outputs": [],
   "source": [
    "import matplotlib.pyplot as plt\n",
    "import numpy as np\n",
    "import math"
   ]
  },
  {
   "cell_type": "code",
   "execution_count": 3,
   "metadata": {},
   "outputs": [],
   "source": [
    "def recta(x, a, b):\n",
    "    return a*x + b\n",
    "\n",
    "def likehood(theta, datos):\n",
    "    x = datos[0]\n",
    "    y = datos[1]\n",
    "    err = datos[2]\n",
    "    modelo = recta(x, theta[0], theta[1])\n",
    "    chi = ((y - modelo)**2)/(err**2)\n",
    "    return likehood.sum()"
   ]
  },
  {
   "cell_type": "code",
   "execution_count": null,
   "metadata": {},
   "outputs": [],
   "source": [
    "dat_ini_0 = []\n",
    "dat_ini_1 = []\n",
    "likehood_ini = likehood([dat_ini_0, dat_ini_1], [x, y, err])\n",
    "for i in range(100):\n",
    "    dat_0 = np.random.normal(dat_ini_0, 0.5)\n",
    "    dat_1 = np.random.normal(dat_ini_1, 0.5)\n",
    "    likehood_col = likehood([dat_0, dat_1], [x, y, err])\n",
    "    if likehood_col > likehood_ini:\n",
    "        dat_0.append(dat_0)\n",
    "        dat_1.append(dat_1)\n",
    "        dat_ini_0 = dat_0\n",
    "        dat_ini_1 = dat_1\n",
    "        likehood_ini = likehood_col\n",
    "\n",
    "    else:\n",
    "        random = np.random.random()\n",
    "        if likehood_col/likehood_ini > random:\n",
    "            dat_0.append(dat_0)\n",
    "            dat_1.append(dat_1)\n",
    "            dat_ini_0 = dat_0\n",
    "            dat_ini_1 = dat_1\n",
    "            likehood_ini = likehood_col\n",
    "        else:\n",
    "            "
   ]
  }
 ],
 "metadata": {
  "kernelspec": {
   "display_name": "Python 3",
   "language": "python",
   "name": "python3"
  },
  "language_info": {
   "codemirror_mode": {
    "name": "ipython",
    "version": 3
   },
   "file_extension": ".py",
   "mimetype": "text/x-python",
   "name": "python",
   "nbconvert_exporter": "python",
   "pygments_lexer": "ipython3",
   "version": "3.8.5"
  }
 },
 "nbformat": 4,
 "nbformat_minor": 4
}
