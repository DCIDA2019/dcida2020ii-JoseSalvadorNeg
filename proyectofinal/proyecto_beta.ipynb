{
 "cells": [
  {
   "cell_type": "code",
   "execution_count": 1,
   "metadata": {},
   "outputs": [],
   "source": [
    "import matplotlib.pyplot as plt\n",
    "import numpy as np\n",
    "import math\n",
    "import emcee\n",
    "import corner\n",
    "from astropy.cosmology import FlatLambdaCDM\n",
    "from astropy.cosmology import WMAP9 as cosmo\n",
    "from astropy.io import fits as pyfits"
   ]
  },
  {
   "cell_type": "markdown",
   "metadata": {},
   "source": [
    "La distancia módulo es una forma de parametrizar distancias en el contexto de astronomía y cosmología mediante el uso de escalas logarítmicas. Cuando tratamos con supernovas, tenemos tres parámetros de interés: su color, su forma y su entorno galáctico. Si consideramos que las supernovas con parámetros idénticos presentan en promedio la misma luminosidad intrínsica para todos los corrimientos al rojo, podemos modelar la distancia módulo como"
   ]
  },
  {
   "cell_type": "markdown",
   "metadata": {},
   "source": [
    "$\\mu = m_{B}^{*} - (M_{B} - \\alpha \\times X_{1} + \\beta \\times C)$"
   ]
  },
  {
   "cell_type": "markdown",
   "metadata": {},
   "source": [
    "donde $m_{B}^{*}$ es el pico de la magnitud de la banda $B$, $X_{1}$ es la extensión de la curvatura de luz y $C$ es el color de la supernova en su brillo máximo. Por su parte, $M_{B}$, $\\alpha$ y $\\beta$ no son otra cosa más que parámetros de ajuste que deben determinarse para que el modelo lineal concuerde con la estandarizaión $\\mu = 5 log_{10}(d_{L}/10 pc)$, donde $d_{L}$ representa la distancia luminosa. De acuerdo a la teoría, es posible obtener esta cantidad para un objeto astronómico si conocemos su corrimiento al rojo. Usamos la libreria FlatLambdaCDM con los parámetros del universo actual (constante de Hubble $H_{0} = 70 km s^{-1} Mpc^{-1}$, parámetro de densidad de materia bariónica $\\Omega_{0} = 0.3$ y temperatura del universo $T = 2.725 K$) para obtener los valores $d_{L}$ necesarios"
   ]
  },
  {
   "cell_type": "code",
   "execution_count": 2,
   "metadata": {},
   "outputs": [],
   "source": [
    "datos = np.loadtxt('data/jla_lcparams.txt', usecols = (1, 2, 3, 4, 5, 6, 7, 8, 9, 10, 11, 12, 13, 14, 15, 16, 17, 18, 19))"
   ]
  },
  {
   "cell_type": "code",
   "execution_count": 3,
   "metadata": {},
   "outputs": [],
   "source": [
    "z = np.zeros(740)\n",
    "\n",
    "for i in range(740):\n",
    "    z[i] = datos[i][0]"
   ]
  },
  {
   "cell_type": "code",
   "execution_count": 4,
   "metadata": {},
   "outputs": [],
   "source": [
    "mb = np.zeros(740)\n",
    "x1 = np.zeros(740)\n",
    "c = np.zeros(740)\n",
    "\n",
    "for i in range(740):\n",
    "    mb[i] = datos[i][3]\n",
    "    x1[i] = datos[i][5]\n",
    "    c[i] = datos[i][7]"
   ]
  },
  {
   "cell_type": "code",
   "execution_count": 5,
   "metadata": {},
   "outputs": [],
   "source": [
    "err_mb = np.zeros(740)\n",
    "err_x1 = np.zeros(740)\n",
    "err_c = np.zeros(740)\n",
    "\n",
    "for i in range(740):\n",
    "    err_mb[i] = datos[i][4]\n",
    "    err_x1[i] = datos[i][6]\n",
    "    err_c[i] = datos[i][8]"
   ]
  },
  {
   "cell_type": "code",
   "execution_count": 6,
   "metadata": {},
   "outputs": [],
   "source": [
    "masa_estelar = np.zeros(740)\n",
    "conjunto = np.zeros(740)\n",
    "\n",
    "for i in range(740):\n",
    "    masa_estelar[i] = datos[i][9]\n",
    "    conjunto[i] = datos[i][16]"
   ]
  },
  {
   "cell_type": "markdown",
   "metadata": {},
   "source": [
    "Y obtenemos las distancias módulo"
   ]
  },
  {
   "cell_type": "code",
   "execution_count": 7,
   "metadata": {},
   "outputs": [],
   "source": [
    "err_total = np.zeros(740)\n",
    "par_masa = np.zeros(740)\n",
    "\n",
    "for i in range(740):\n",
    "    err_aux = err_mb[i]**2 + err_x1[i]**2 + err_c[i]**2\n",
    "    err_total[i] = err_aux\n",
    "\n",
    "for i in range(740):\n",
    "    if masa_estelar[i] >= 10:\n",
    "        par_masa[i] = 1\n",
    "    else:\n",
    "        par_masa[i] = 0"
   ]
  },
  {
   "cell_type": "code",
   "execution_count": 8,
   "metadata": {},
   "outputs": [],
   "source": [
    "c_n = pyfits.open('covmat/C_stat.fits')['PRIMARY'].data + pyfits.open('covmat/C_cal.fits')['PRIMARY'].data + pyfits.open('covmat/C_model.fits')['PRIMARY'].data + pyfits.open('covmat/C_bias.fits')['PRIMARY'].data + pyfits.open('covmat/C_host.fits')['PRIMARY'].data + pyfits.open('covmat/C_dust.fits')['PRIMARY'].data + pyfits.open('covmat/C_pecvel.fits')['PRIMARY'].data + pyfits.open('covmat/C_nonia.fits')['PRIMARY'].data"
   ]
  },
  {
   "cell_type": "code",
   "execution_count": 9,
   "metadata": {},
   "outputs": [],
   "source": [
    "a = np.zeros((740, 2220))\n",
    "n = np.zeros ((2220, 1))\n",
    "delta_kronecker = np.zeros((740, 2220, 3))"
   ]
  },
  {
   "cell_type": "code",
   "execution_count": 10,
   "metadata": {},
   "outputs": [],
   "source": [
    "for i in range(740):\n",
    "    n[3*i] = mb[i]\n",
    "    n[3*i + 1] = x1[i]\n",
    "    n[3*i + 2] = c[i]"
   ]
  },
  {
   "cell_type": "code",
   "execution_count": 11,
   "metadata": {},
   "outputs": [],
   "source": [
    "for i in range(740):\n",
    "    for j in range(2220):\n",
    "        for k in range(3):\n",
    "            if 3*i == j + k:\n",
    "                delta_kronecker[i][j][k] = 1\n",
    "            else:\n",
    "                delta_kronecker[i][j][k] = 0"
   ]
  },
  {
   "cell_type": "code",
   "execution_count": 12,
   "metadata": {},
   "outputs": [],
   "source": [
    "masa_aux = np.ones(740)\n",
    "diag_1 = np.zeros((740, 740))\n",
    "diag_2 = np.zeros((740, 740))\n",
    "diag_3 = np.zeros((740, 740))"
   ]
  },
  {
   "cell_type": "code",
   "execution_count": 13,
   "metadata": {},
   "outputs": [],
   "source": [
    "for i in range(740):\n",
    "    for j in range(740):\n",
    "        if i == j:\n",
    "            diag_1[i][j] = ((0.0025)/(z[i]*math.log(10)))**2"
   ]
  },
  {
   "cell_type": "code",
   "execution_count": 14,
   "metadata": {},
   "outputs": [],
   "source": [
    "for i in range(740):\n",
    "    for j in range(740):\n",
    "        if i == j:\n",
    "            diag_2[i][j] = (0.055*z[i])**2"
   ]
  },
  {
   "cell_type": "code",
   "execution_count": 15,
   "metadata": {},
   "outputs": [],
   "source": [
    "for i in range(740):\n",
    "    for j in range(740):\n",
    "        if i == j:\n",
    "            if conjunto[i] == 3:\n",
    "                diag_3[i][j] = (0.12)**2\n",
    "            elif conjunto[i] == 1:\n",
    "                diag_3[i][j] = (0.11)**2\n",
    "            elif conjunto[i] == 2:\n",
    "                diag_3[i][j] = (0.08)**2\n",
    "            else:\n",
    "                diag_3[i][j] = (0.11)**2"
   ]
  },
  {
   "cell_type": "code",
   "execution_count": 35,
   "metadata": {},
   "outputs": [],
   "source": [
    "def log_likelihood_mod(theta):\n",
    "    omega, alfa, beta, masa, delta = theta\n",
    "    for i in range(740):\n",
    "        for j in range(2220):\n",
    "            a[i][j] = delta_kronecker[i][j][0] + alfa*delta_kronecker[i][j][1] + beta*delta_kronecker[i][j][2]\n",
    "    model = np.matmul(a, n) - (masa*masa_aux).reshape(740, 1) + (delta*par_masa).reshape(740, 1)\n",
    "    omega = abs(omega)\n",
    "    d_l = FlatLambdaCDM(H0 = 70, Om0 = omega, Tcmb0 = 2.725).luminosity_distance(z)\n",
    "    mu_stand = np.zeros(740)\n",
    "    for i in range(740):\n",
    "        mu_aux = 5*math.log10(d_l[i].value/10e-6)\n",
    "        mu_stand[i] = mu_aux\n",
    "    likelihood_aux = model - mu_stand.reshape(740, 1)\n",
    "    c_cov = np.matmul(np.matmul(a, c_n), a.reshape(2220, 740)) + diag_1 + diag_2 + diag_3\n",
    "    c_cov_inv = np.linalg.inv(c_cov)\n",
    "    likelihood = np.matmul(np.matmul(likelihood_aux.reshape(1, 740), c_cov_inv), likelihood_aux)\n",
    "    return likelihood"
   ]
  },
  {
   "cell_type": "code",
   "execution_count": 36,
   "metadata": {},
   "outputs": [],
   "source": [
    "def log_prior(theta):\n",
    "    omega, alfa, beta, masa, delta = theta\n",
    "    if 0.0 < omega < 1.0 and 0.0 < alfa < 1.0 and 3 < beta < 4 and -20 < masa < -19 and -1.0 < delta < 0.0:\n",
    "        prior = 0\n",
    "    else:\n",
    "        prior = -np.inf\n",
    "    return prior"
   ]
  },
  {
   "cell_type": "code",
   "execution_count": 37,
   "metadata": {},
   "outputs": [],
   "source": [
    "def log_probability(theta):\n",
    "    lp = log_prior(theta)\n",
    "    if not np.isfinite(lp):\n",
    "        return -np.inf\n",
    "    log_prob = lp + log_likelihood_mod(theta)\n",
    "    print(log_prob)\n",
    "    return log_prob"
   ]
  },
  {
   "cell_type": "code",
   "execution_count": 38,
   "metadata": {},
   "outputs": [
    {
     "name": "stdout",
     "output_type": "stream",
     "text": [
      "[[-1127583.00289472]]\n"
     ]
    },
    {
     "name": "stderr",
     "output_type": "stream",
     "text": [
      "  0%|          | 0/1000 [00:00<?, ?it/s]"
     ]
    },
    {
     "name": "stdout",
     "output_type": "stream",
     "text": [
      "[[-1124896.93464083]]\n"
     ]
    },
    {
     "name": "stderr",
     "output_type": "stream",
     "text": [
      "  0%|          | 1/1000 [00:19<5:28:22, 19.72s/it]"
     ]
    },
    {
     "name": "stdout",
     "output_type": "stream",
     "text": [
      "[[-1125352.02440434]]\n",
      "[[-1125260.53134215]]\n"
     ]
    },
    {
     "name": "stderr",
     "output_type": "stream",
     "text": [
      "  0%|          | 2/1000 [00:58<7:04:55, 25.55s/it]"
     ]
    },
    {
     "name": "stdout",
     "output_type": "stream",
     "text": [
      "[[-1127913.74040832]]\n"
     ]
    },
    {
     "name": "stderr",
     "output_type": "stream",
     "text": [
      "  0%|          | 3/1000 [01:18<6:34:01, 23.71s/it]"
     ]
    },
    {
     "name": "stdout",
     "output_type": "stream",
     "text": [
      "[[-1126430.16904536]]\n",
      "[[-1129234.91629222]]\n"
     ]
    },
    {
     "name": "stderr",
     "output_type": "stream",
     "text": [
      "  0%|          | 4/1000 [01:56<7:44:46, 28.00s/it]"
     ]
    },
    {
     "name": "stdout",
     "output_type": "stream",
     "text": [
      "[[-1121974.21785835]]\n"
     ]
    },
    {
     "name": "stderr",
     "output_type": "stream",
     "text": [
      "  0%|          | 5/1000 [02:17<7:08:20, 25.83s/it]"
     ]
    },
    {
     "name": "stdout",
     "output_type": "stream",
     "text": [
      "[[-1122654.58335478]]\n"
     ]
    },
    {
     "name": "stderr",
     "output_type": "stream",
     "text": [
      "  1%|          | 6/1000 [02:37<6:39:11, 24.10s/it]"
     ]
    },
    {
     "name": "stdout",
     "output_type": "stream",
     "text": [
      "[[-1120981.82586677]]\n",
      "[[-1124872.38353545]]\n",
      "[[-1116790.42990621]]\n"
     ]
    },
    {
     "name": "stderr",
     "output_type": "stream",
     "text": [
      "  1%|          | 7/1000 [03:36<9:32:30, 34.59s/it]"
     ]
    },
    {
     "name": "stdout",
     "output_type": "stream",
     "text": [
      "[[-1112668.80976049]]\n",
      "[[-1133737.22835135]]\n"
     ]
    },
    {
     "name": "stderr",
     "output_type": "stream",
     "text": [
      "  1%|          | 8/1000 [04:16<10:00:29, 36.32s/it]"
     ]
    },
    {
     "name": "stdout",
     "output_type": "stream",
     "text": [
      "[[-1119239.53327848]]\n",
      "[[-1115029.01762404]]\n"
     ]
    },
    {
     "name": "stderr",
     "output_type": "stream",
     "text": [
      "  1%|          | 9/1000 [04:55<10:10:39, 36.97s/it]"
     ]
    },
    {
     "name": "stdout",
     "output_type": "stream",
     "text": [
      "[[-1126285.68355565]]\n",
      "[[-1114341.35330307]]\n",
      "[[-1129040.28364316]]\n"
     ]
    },
    {
     "name": "stderr",
     "output_type": "stream",
     "text": [
      "  1%|          | 10/1000 [05:52<11:50:37, 43.07s/it]"
     ]
    },
    {
     "name": "stdout",
     "output_type": "stream",
     "text": [
      "[[-1116429.2045889]]\n",
      "[[-1112754.7164208]]\n",
      "[[-1122503.9248876]]\n"
     ]
    },
    {
     "name": "stderr",
     "output_type": "stream",
     "text": [
      "  1%|          | 11/1000 [06:50<13:06:23, 47.71s/it]"
     ]
    },
    {
     "name": "stdout",
     "output_type": "stream",
     "text": [
      "[[-1116533.42568167]]\n",
      "[[-1129926.11192505]]\n",
      "[[-1121141.32056507]]\n",
      "[[-1103063.17605059]]\n"
     ]
    },
    {
     "name": "stderr",
     "output_type": "stream",
     "text": [
      "  1%|          | 12/1000 [08:07<15:26:48, 56.28s/it]"
     ]
    },
    {
     "name": "stdout",
     "output_type": "stream",
     "text": [
      "[[-1110257.15162701]]\n",
      "[[-1093024.52878097]]\n",
      "[[-1123133.42701073]]\n",
      "[[-1106946.03030187]]\n"
     ]
    },
    {
     "name": "stderr",
     "output_type": "stream",
     "text": [
      "  1%|▏         | 13/1000 [09:23<17:05:14, 62.32s/it]"
     ]
    },
    {
     "name": "stdout",
     "output_type": "stream",
     "text": [
      "[[-1104124.38113609]]\n",
      "[[-1118531.02382708]]\n"
     ]
    },
    {
     "name": "stderr",
     "output_type": "stream",
     "text": [
      "  1%|▏         | 14/1000 [10:02<15:08:03, 55.26s/it]"
     ]
    },
    {
     "name": "stdout",
     "output_type": "stream",
     "text": [
      "[[-1111667.38170998]]\n",
      "[[-1118212.05590503]]\n",
      "[[-1099642.6533734]]\n"
     ]
    },
    {
     "name": "stderr",
     "output_type": "stream",
     "text": [
      "  2%|▏         | 15/1000 [10:59<15:16:25, 55.82s/it]"
     ]
    },
    {
     "name": "stdout",
     "output_type": "stream",
     "text": [
      "[[-1087447.17952117]]\n",
      "[[-1108791.55169421]]\n",
      "[[-1095462.94878969]]\n",
      "[[-1057652.13435327]]\n"
     ]
    },
    {
     "name": "stderr",
     "output_type": "stream",
     "text": [
      "  2%|▏         | 16/1000 [12:15<16:55:43, 61.93s/it]"
     ]
    },
    {
     "name": "stdout",
     "output_type": "stream",
     "text": [
      "[[-1115884.50698306]]\n",
      "[[-1100716.60181103]]\n",
      "[[-1063074.04997464]]\n"
     ]
    },
    {
     "name": "stderr",
     "output_type": "stream",
     "text": [
      "  2%|▏         | 17/1000 [13:11<16:26:49, 60.23s/it]"
     ]
    },
    {
     "name": "stdout",
     "output_type": "stream",
     "text": [
      "[[-1085791.92708511]]\n",
      "[[-1124013.62162715]]\n",
      "[[-1109083.16781824]]\n",
      "[[-1111279.55862293]]\n"
     ]
    },
    {
     "name": "stderr",
     "output_type": "stream",
     "text": [
      "  2%|▏         | 18/1000 [14:26<17:38:12, 64.66s/it]"
     ]
    },
    {
     "name": "stdout",
     "output_type": "stream",
     "text": [
      "[[-1007353.02149514]]\n",
      "[[-1114204.23480074]]\n",
      "[[-1101357.11581387]]\n",
      "[[-1120642.20937106]]\n"
     ]
    },
    {
     "name": "stderr",
     "output_type": "stream",
     "text": [
      "  2%|▏         | 19/1000 [15:43<18:34:43, 68.18s/it]"
     ]
    },
    {
     "name": "stdout",
     "output_type": "stream",
     "text": [
      "[[-1092238.65672977]]\n",
      "[[-1108560.635638]]\n",
      "[[-1091768.78757622]]\n",
      "[[-1070765.83269148]]\n",
      "[[-912195.0586472]]\n"
     ]
    },
    {
     "name": "stderr",
     "output_type": "stream",
     "text": [
      "  2%|▏         | 20/1000 [17:19<20:51:22, 76.61s/it]"
     ]
    },
    {
     "name": "stdout",
     "output_type": "stream",
     "text": [
      "[[-1103708.6624695]]\n",
      "[[-1104446.48104259]]\n",
      "[[-1104881.07687454]]\n",
      "[[-889158.28221927]]\n",
      "[[-1116204.11295457]]\n",
      "[[-1092471.59799855]]\n",
      "[[-1085806.58977621]]\n"
     ]
    },
    {
     "name": "stderr",
     "output_type": "stream",
     "text": [
      "  2%|▏         | 21/1000 [19:31<25:22:51, 93.33s/it]"
     ]
    },
    {
     "name": "stdout",
     "output_type": "stream",
     "text": [
      "[[-1073289.66939872]]\n",
      "[[-1091513.59714578]]\n",
      "[[-1070844.20350359]]\n",
      "[[-1035014.65090604]]\n",
      "[[-1105188.18060533]]\n",
      "[[-1071621.99473648]]\n"
     ]
    },
    {
     "name": "stderr",
     "output_type": "stream",
     "text": [
      "  2%|▏         | 22/1000 [21:26<27:05:22, 99.72s/it]"
     ]
    },
    {
     "name": "stdout",
     "output_type": "stream",
     "text": [
      "[[-918447.04922615]]\n",
      "[[-1072129.85564767]]\n",
      "[[-1081967.1423588]]\n",
      "[[-1085825.50860444]]\n",
      "[[-833727.62421345]]\n",
      "[[-1098543.38269007]]\n"
     ]
    },
    {
     "name": "stderr",
     "output_type": "stream",
     "text": [
      "  2%|▏         | 23/1000 [23:22<28:23:55, 104.64s/it]"
     ]
    },
    {
     "name": "stdout",
     "output_type": "stream",
     "text": [
      "[[-1083629.6614623]]\n",
      "[[-1113785.28932316]]\n",
      "[[-1079886.70612051]]\n",
      "[[-1071000.60387436]]\n",
      "[[-765837.69702436]]\n",
      "[[-1084787.21966377]]\n",
      "[[-1082044.44960585]]\n"
     ]
    },
    {
     "name": "stderr",
     "output_type": "stream",
     "text": [
      "  2%|▏         | 24/1000 [25:35<30:41:16, 113.19s/it]"
     ]
    },
    {
     "name": "stdout",
     "output_type": "stream",
     "text": [
      "[[-1038349.50438413]]\n",
      "[[-1109947.76370547]]\n",
      "[[-1061802.1847169]]\n",
      "[[-725756.14316504]]\n",
      "[[-1089422.1852606]]\n",
      "[[-1112817.27547579]]\n",
      "[[-1010711.53211101]]\n"
     ]
    },
    {
     "name": "stderr",
     "output_type": "stream",
     "text": [
      "  2%|▎         | 25/1000 [27:48<32:13:01, 118.95s/it]"
     ]
    },
    {
     "name": "stdout",
     "output_type": "stream",
     "text": [
      "[[-1031307.15128246]]\n",
      "[[-1098583.46101211]]\n",
      "[[-1021177.56766144]]\n",
      "[[-1000988.78891406]]\n",
      "[[-1116345.23139267]]\n",
      "[[-1120228.78326147]]\n"
     ]
    },
    {
     "name": "stderr",
     "output_type": "stream",
     "text": [
      "  3%|▎         | 26/1000 [29:41<31:44:17, 117.31s/it]"
     ]
    },
    {
     "name": "stdout",
     "output_type": "stream",
     "text": [
      "[[-1075618.34555935]]\n",
      "[[-1104775.3483942]]\n",
      "[[-1029140.88607536]]\n",
      "[[-1076185.35575012]]\n",
      "[[-1016200.31854105]]\n"
     ]
    },
    {
     "name": "stderr",
     "output_type": "stream",
     "text": [
      "  3%|▎         | 26/1000 [31:17<19:32:01, 72.20s/it] "
     ]
    },
    {
     "name": "stdout",
     "output_type": "stream",
     "text": [
      "[[-1038252.01544738]]\n"
     ]
    },
    {
     "name": "stderr",
     "output_type": "stream",
     "text": [
      "\n"
     ]
    },
    {
     "ename": "ValueError",
     "evalue": "If you start sampling with a given log_prob, you also need to provide the current list of blobs at that position.",
     "output_type": "error",
     "traceback": [
      "\u001b[0;31m---------------------------------------------------------------------------\u001b[0m",
      "\u001b[0;31mValueError\u001b[0m                                Traceback (most recent call last)",
      "\u001b[0;32m<ipython-input-38-16fea79d276b>\u001b[0m in \u001b[0;36m<module>\u001b[0;34m\u001b[0m\n\u001b[1;32m      3\u001b[0m \u001b[0;34m\u001b[0m\u001b[0m\n\u001b[1;32m      4\u001b[0m \u001b[0msampler\u001b[0m \u001b[0;34m=\u001b[0m \u001b[0memcee\u001b[0m\u001b[0;34m.\u001b[0m\u001b[0mEnsembleSampler\u001b[0m\u001b[0;34m(\u001b[0m\u001b[0mnwalkers\u001b[0m\u001b[0;34m,\u001b[0m \u001b[0mndim\u001b[0m\u001b[0;34m,\u001b[0m \u001b[0mlog_probability\u001b[0m\u001b[0;34m)\u001b[0m\u001b[0;34m\u001b[0m\u001b[0;34m\u001b[0m\u001b[0m\n\u001b[0;32m----> 5\u001b[0;31m \u001b[0msampler\u001b[0m\u001b[0;34m.\u001b[0m\u001b[0mrun_mcmc\u001b[0m\u001b[0;34m(\u001b[0m\u001b[0mpos\u001b[0m\u001b[0;34m,\u001b[0m \u001b[0;36m1000\u001b[0m\u001b[0;34m,\u001b[0m \u001b[0mprogress\u001b[0m\u001b[0;34m=\u001b[0m\u001b[0;32mTrue\u001b[0m\u001b[0;34m)\u001b[0m\u001b[0;34m;\u001b[0m\u001b[0;34m\u001b[0m\u001b[0;34m\u001b[0m\u001b[0m\n\u001b[0m",
      "\u001b[0;32m~/miniconda3.8/envs/DA2020II/lib/python3.8/site-packages/emcee/ensemble.py\u001b[0m in \u001b[0;36mrun_mcmc\u001b[0;34m(self, initial_state, nsteps, **kwargs)\u001b[0m\n\u001b[1;32m    382\u001b[0m \u001b[0;34m\u001b[0m\u001b[0m\n\u001b[1;32m    383\u001b[0m         \u001b[0mresults\u001b[0m \u001b[0;34m=\u001b[0m \u001b[0;32mNone\u001b[0m\u001b[0;34m\u001b[0m\u001b[0;34m\u001b[0m\u001b[0m\n\u001b[0;32m--> 384\u001b[0;31m         \u001b[0;32mfor\u001b[0m \u001b[0mresults\u001b[0m \u001b[0;32min\u001b[0m \u001b[0mself\u001b[0m\u001b[0;34m.\u001b[0m\u001b[0msample\u001b[0m\u001b[0;34m(\u001b[0m\u001b[0minitial_state\u001b[0m\u001b[0;34m,\u001b[0m \u001b[0miterations\u001b[0m\u001b[0;34m=\u001b[0m\u001b[0mnsteps\u001b[0m\u001b[0;34m,\u001b[0m \u001b[0;34m**\u001b[0m\u001b[0mkwargs\u001b[0m\u001b[0;34m)\u001b[0m\u001b[0;34m:\u001b[0m\u001b[0;34m\u001b[0m\u001b[0;34m\u001b[0m\u001b[0m\n\u001b[0m\u001b[1;32m    385\u001b[0m             \u001b[0;32mpass\u001b[0m\u001b[0;34m\u001b[0m\u001b[0;34m\u001b[0m\u001b[0m\n\u001b[1;32m    386\u001b[0m \u001b[0;34m\u001b[0m\u001b[0m\n",
      "\u001b[0;32m~/miniconda3.8/envs/DA2020II/lib/python3.8/site-packages/emcee/ensemble.py\u001b[0m in \u001b[0;36msample\u001b[0;34m(self, initial_state, log_prob0, rstate0, blobs0, iterations, tune, skip_initial_state_check, thin_by, thin, store, progress)\u001b[0m\n\u001b[1;32m    341\u001b[0m \u001b[0;34m\u001b[0m\u001b[0m\n\u001b[1;32m    342\u001b[0m                     \u001b[0;31m# Propose\u001b[0m\u001b[0;34m\u001b[0m\u001b[0;34m\u001b[0m\u001b[0;34m\u001b[0m\u001b[0m\n\u001b[0;32m--> 343\u001b[0;31m                     \u001b[0mstate\u001b[0m\u001b[0;34m,\u001b[0m \u001b[0maccepted\u001b[0m \u001b[0;34m=\u001b[0m \u001b[0mmove\u001b[0m\u001b[0;34m.\u001b[0m\u001b[0mpropose\u001b[0m\u001b[0;34m(\u001b[0m\u001b[0mmodel\u001b[0m\u001b[0;34m,\u001b[0m \u001b[0mstate\u001b[0m\u001b[0;34m)\u001b[0m\u001b[0;34m\u001b[0m\u001b[0;34m\u001b[0m\u001b[0m\n\u001b[0m\u001b[1;32m    344\u001b[0m                     \u001b[0mstate\u001b[0m\u001b[0;34m.\u001b[0m\u001b[0mrandom_state\u001b[0m \u001b[0;34m=\u001b[0m \u001b[0mself\u001b[0m\u001b[0;34m.\u001b[0m\u001b[0mrandom_state\u001b[0m\u001b[0;34m\u001b[0m\u001b[0;34m\u001b[0m\u001b[0m\n\u001b[1;32m    345\u001b[0m \u001b[0;34m\u001b[0m\u001b[0m\n",
      "\u001b[0;32m~/miniconda3.8/envs/DA2020II/lib/python3.8/site-packages/emcee/moves/red_blue.py\u001b[0m in \u001b[0;36mpropose\u001b[0;34m(self, model, state)\u001b[0m\n\u001b[1;32m    102\u001b[0m \u001b[0;34m\u001b[0m\u001b[0m\n\u001b[1;32m    103\u001b[0m             \u001b[0mnew_state\u001b[0m \u001b[0;34m=\u001b[0m \u001b[0mState\u001b[0m\u001b[0;34m(\u001b[0m\u001b[0mq\u001b[0m\u001b[0;34m,\u001b[0m \u001b[0mlog_prob\u001b[0m\u001b[0;34m=\u001b[0m\u001b[0mnew_log_probs\u001b[0m\u001b[0;34m,\u001b[0m \u001b[0mblobs\u001b[0m\u001b[0;34m=\u001b[0m\u001b[0mnew_blobs\u001b[0m\u001b[0;34m)\u001b[0m\u001b[0;34m\u001b[0m\u001b[0;34m\u001b[0m\u001b[0m\n\u001b[0;32m--> 104\u001b[0;31m             \u001b[0mstate\u001b[0m \u001b[0;34m=\u001b[0m \u001b[0mself\u001b[0m\u001b[0;34m.\u001b[0m\u001b[0mupdate\u001b[0m\u001b[0;34m(\u001b[0m\u001b[0mstate\u001b[0m\u001b[0;34m,\u001b[0m \u001b[0mnew_state\u001b[0m\u001b[0;34m,\u001b[0m \u001b[0maccepted\u001b[0m\u001b[0;34m,\u001b[0m \u001b[0mS1\u001b[0m\u001b[0;34m)\u001b[0m\u001b[0;34m\u001b[0m\u001b[0;34m\u001b[0m\u001b[0m\n\u001b[0m\u001b[1;32m    105\u001b[0m \u001b[0;34m\u001b[0m\u001b[0m\n\u001b[1;32m    106\u001b[0m         \u001b[0;32mreturn\u001b[0m \u001b[0mstate\u001b[0m\u001b[0;34m,\u001b[0m \u001b[0maccepted\u001b[0m\u001b[0;34m\u001b[0m\u001b[0;34m\u001b[0m\u001b[0m\n",
      "\u001b[0;32m~/miniconda3.8/envs/DA2020II/lib/python3.8/site-packages/emcee/moves/move.py\u001b[0m in \u001b[0;36mupdate\u001b[0;34m(self, old_state, new_state, accepted, subset)\u001b[0m\n\u001b[1;32m     36\u001b[0m         \u001b[0;32mif\u001b[0m \u001b[0mnew_state\u001b[0m\u001b[0;34m.\u001b[0m\u001b[0mblobs\u001b[0m \u001b[0;32mis\u001b[0m \u001b[0;32mnot\u001b[0m \u001b[0;32mNone\u001b[0m\u001b[0;34m:\u001b[0m\u001b[0;34m\u001b[0m\u001b[0;34m\u001b[0m\u001b[0m\n\u001b[1;32m     37\u001b[0m             \u001b[0;32mif\u001b[0m \u001b[0mold_state\u001b[0m\u001b[0;34m.\u001b[0m\u001b[0mblobs\u001b[0m \u001b[0;32mis\u001b[0m \u001b[0;32mNone\u001b[0m\u001b[0;34m:\u001b[0m\u001b[0;34m\u001b[0m\u001b[0;34m\u001b[0m\u001b[0m\n\u001b[0;32m---> 38\u001b[0;31m                 raise ValueError(\n\u001b[0m\u001b[1;32m     39\u001b[0m                     \u001b[0;34m\"If you start sampling with a given log_prob, \"\u001b[0m\u001b[0;34m\u001b[0m\u001b[0;34m\u001b[0m\u001b[0m\n\u001b[1;32m     40\u001b[0m                     \u001b[0;34m\"you also need to provide the current list of \"\u001b[0m\u001b[0;34m\u001b[0m\u001b[0;34m\u001b[0m\u001b[0m\n",
      "\u001b[0;31mValueError\u001b[0m: If you start sampling with a given log_prob, you also need to provide the current list of blobs at that position."
     ]
    }
   ],
   "source": [
    "pos = [0.3, 0.15, 3.0, -19.0, -0.0070] + 1e-4 * np.random.randn(10, 5)\n",
    "nwalkers, ndim = pos.shape\n",
    "\n",
    "sampler = emcee.EnsembleSampler(nwalkers, ndim, log_probability)\n",
    "sampler.run_mcmc(pos, 1000, progress=True);"
   ]
  }
 ],
 "metadata": {
  "kernelspec": {
   "display_name": "Python 3",
   "language": "python",
   "name": "python3"
  },
  "language_info": {
   "codemirror_mode": {
    "name": "ipython",
    "version": 3
   },
   "file_extension": ".py",
   "mimetype": "text/x-python",
   "name": "python",
   "nbconvert_exporter": "python",
   "pygments_lexer": "ipython3",
   "version": "3.8.5"
  }
 },
 "nbformat": 4,
 "nbformat_minor": 4
}
