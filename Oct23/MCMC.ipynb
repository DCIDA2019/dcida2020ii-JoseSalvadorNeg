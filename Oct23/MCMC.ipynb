{
 "cells": [
  {
   "cell_type": "code",
   "execution_count": 2,
   "metadata": {},
   "outputs": [],
   "source": [
    "import matplotlib.pyplot as plt\n",
    "import numpy as np\n",
    "import math"
   ]
  },
  {
   "cell_type": "code",
   "execution_count": 4,
   "metadata": {},
   "outputs": [],
   "source": [
    "#Cargamos los datos con los que hemos estado trabajando\n",
    "\n",
    "datos = np.load('fit_exercise.npy')"
   ]
  },
  {
   "cell_type": "code",
   "execution_count": 5,
   "metadata": {},
   "outputs": [],
   "source": [
    "#Definimos las funciones necesarias para el algoritmo\n",
    "\n",
    "def recta(x, a, b):\n",
    "    return a*x + b\n",
    "\n",
    "def likelihood(valores, a, b):\n",
    "    x = valores[0]\n",
    "    y = valores[1]\n",
    "    err = valores[2]\n",
    "    modelo = recta(x, a, b)\n",
    "    lh = - 0.5*np.sum(((y - modelo)**2)/((err)**2))\n",
    "    return lh\n",
    "\n",
    "def prior_a(a):\n",
    "    c = -10\n",
    "    d = 10\n",
    "    W = d - c\n",
    "    if a >= c and a <= d:\n",
    "        p_a = 1/W\n",
    "    else:\n",
    "        p_a = 0\n",
    "    return p_a\n",
    "\n",
    "def prior_b(b):\n",
    "    c = -10\n",
    "    d = 10\n",
    "    W = d - c\n",
    "    if b >= c and b <= d:\n",
    "        p_b = 1/W\n",
    "    else:\n",
    "        p_b = 0\n",
    "    return p_b"
   ]
  },
  {
   "cell_type": "code",
   "execution_count": 57,
   "metadata": {},
   "outputs": [
    {
     "name": "stdout",
     "output_type": "stream",
     "text": [
      "-1.1582848196641944\n",
      "5.360995736288826\n"
     ]
    },
    {
     "data": {
      "text/plain": [
       "Text(0, 0.5, 'b')"
      ]
     },
     "execution_count": 57,
     "metadata": {},
     "output_type": "execute_result"
    },
    {
     "data": {
      "image/png": "[encoded data removed]",
      "text/plain": [
       "<Figure size 432x288 with 1 Axes>"
      ]
     },
     "metadata": {
      "needs_background": "light"
     },
     "output_type": "display_data"
    }
   ],
   "source": [
    "#Definimos entonces el posterior (logarítmico) para nuestros datos en fit_exercise.npy\n",
    "\n",
    "a = 0\n",
    "b = 0\n",
    "posterior = likelihood(datos, a, b) + np.log(prior_a(a)) + np.log(prior_b(b))\n",
    "\n",
    "a_lista = []\n",
    "b_lista = []\n",
    "\n",
    "for i in range(1000):\n",
    "    a_new = np.random.normal(a, 0.1)\n",
    "    b_new = np.random.normal(b, 0.1)\n",
    "    posterior_new = likelihood(datos, a_new, b_new) + np.log(prior_a(a_new)) + np.log(prior_b(b_new))\n",
    "    if posterior_new > posterior:\n",
    "        a_lista.append(a_new)\n",
    "        b_lista.append(b_new)\n",
    "        a = a_new\n",
    "        b = b_new\n",
    "        posterior = posterior_new\n",
    "    else:\n",
    "        random = np.random.random()\n",
    "        if posterior_new - posterior > random:\n",
    "            a_lista.append(a_new)\n",
    "            b_lista.append(b_new)\n",
    "            a = a_new\n",
    "            b = b_new\n",
    "            posterior = posterior_new\n",
    "        else:\n",
    "            a_lista.append(a_new)\n",
    "            b_lista.append(b_new)\n",
    "            \n",
    "print(a_new)\n",
    "print(b_new)\n",
    "plt.plot(a_lista, b_lista, '.', color = 'blue')\n",
    "plt.xlabel('a')\n",
    "plt.ylabel('b')"
   ]
  },
  {
   "cell_type": "code",
   "execution_count": 40,
   "metadata": {},
   "outputs": [
    {
     "data": {
      "image/png": "[encoded data removed]",
      "text/plain": [
       "<Figure size 432x288 with 1 Axes>"
      ]
     },
     "metadata": {
      "needs_background": "light"
     },
     "output_type": "display_data"
    },
    {
     "data": {
      "text/plain": [
       "<Figure size 3600x2160 with 0 Axes>"
      ]
     },
     "metadata": {},
     "output_type": "display_data"
    }
   ],
   "source": [
    "x = np.linspace(0, 10, 100)\n",
    "plt.plot(x, a_new*x + b_new, color = 'red')\n",
    "plt.errorbar(datos[0], datos[1], datos[2], None, color = 'blue', fmt = '.')\n",
    "plt.figure(figsize=(50,30))\n",
    "plt.show()"
   ]
  },
  {
   "cell_type": "code",
   "execution_count": null,
   "metadata": {},
   "outputs": [],
   "source": []
  },
  {
   "cell_type": "code",
   "execution_count": null,
   "metadata": {},
   "outputs": [],
   "source": []
  }
 ],
 "metadata": {
  "kernelspec": {
   "display_name": "Python 3",
   "language": "python",
   "name": "python3"
  },
  "language_info": {
   "codemirror_mode": {
    "name": "ipython",
    "version": 3
   },
   "file_extension": ".py",
   "mimetype": "text/x-python",
   "name": "python",
   "nbconvert_exporter": "python",
   "pygments_lexer": "ipython3",
   "version": "3.8.5"
  }
 },
 "nbformat": 4,
 "nbformat_minor": 4
}
