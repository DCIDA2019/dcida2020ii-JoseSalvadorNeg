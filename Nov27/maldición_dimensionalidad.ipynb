{
 "cells": [
  {
   "cell_type": "markdown",
   "metadata": {},
   "source": [
    "# La maldición de la dimensionalidad"
   ]
  },
  {
   "cell_type": "markdown",
   "metadata": {},
   "source": [
    "Supongamos que tenemos N puntos uniformemente distribuidos en un hípercubo de dimensión D. El hípercubo está centrado en cero y tiene una longitud 2r. ¿Cuál es la proporción de puntos que caen dentro de una unidad r de distancia a partir del origen?"
   ]
  },
  {
   "cell_type": "markdown",
   "metadata": {},
   "source": [
    "¿Cómo varía esa proporción conforme aumenta la dimensión D?"
   ]
  },
  {
   "cell_type": "markdown",
   "metadata": {},
   "source": [
    "# Caso 2-dimensional"
   ]
  },
  {
   "cell_type": "markdown",
   "metadata": {},
   "source": [
    "Suponiendo una gran cantidad de puntos, podemos obtener una buena estimación de la proporción de puntos que hay en la esfera con respecto a los que hay en el cubo mediante un cociente entre sus volúmenes. En el caso 2-dimensional, esto es tan sencillo como dividir el área de un círculo entre el área de un cuadrado. Para este caso, esto sería\n",
    "\n",
    "Indice de maldición $= \\frac{\\pi r^{2}}{4 r^{2}} = \\frac{\\pi}{4}$"
   ]
  },
  {
   "cell_type": "markdown",
   "metadata": {},
   "source": [
    "# Caso 3-dimensional"
   ]
  },
  {
   "cell_type": "markdown",
   "metadata": {},
   "source": [
    "Con el mismo argumento, el caso 3-dimensional se reduce a dividir el volumen de una esfera sobre el volumen de un cubo. Esto es\n",
    "\n",
    "Indice de maldición $= \\frac{\\frac{4}{3} \\pi r^{3}}{8 r^{3}} = \\frac{\\pi}{6}$\n",
    "\n",
    "Evidentemente, este número es menor al que obtuvimos en el caso 2-dimensional."
   ]
  },
  {
   "cell_type": "markdown",
   "metadata": {},
   "source": [
    "# Caso D-dimensional"
   ]
  },
  {
   "cell_type": "markdown",
   "metadata": {},
   "source": [
    "Mismo argumento. La dificultad radica en tener una fórmula general para el volumen de una hiperesfera D-dimensional. En el caso del volumen de un hipercubo, esto es simplemente $(2r)^{D}$. La fórmula general que buscamos es\n",
    "\n",
    "$V_{D} = \\frac{\\pi^{D/2} r^{D}}{\\Gamma(D/2 + 1)}$\n",
    "\n",
    "Y el índice de maldición es\n",
    "\n",
    "Indice de maldición $= \\frac{\\frac{\\pi^{D/2} r^{D}}{\\Gamma(D/2 + 1)}}{(2r)^{D}} = \\frac{\\pi^{D/2}}{2^{D} \\Gamma(D/2 + 1)}$\n",
    "\n",
    "Si D tiende a infinito, evidentemente el índice se vuelve cero, pues la función gamma se vuelve un número demasiado grande, en comparación al factor $\\pi$ del numerador. De modo que, conforme aumenta la dimensión, cada vez más existen menos puntos en común que se encuentren en los límites de la hiperesfera y el hipercubo a la vez."
   ]
  }
 ],
 "metadata": {
  "kernelspec": {
   "display_name": "Python 3",
   "language": "python",
   "name": "python3"
  },
  "language_info": {
   "codemirror_mode": {
    "name": "ipython",
    "version": 3
   },
   "file_extension": ".py",
   "mimetype": "text/x-python",
   "name": "python",
   "nbconvert_exporter": "python",
   "pygments_lexer": "ipython3",
   "version": "3.8.5"
  }
 },
 "nbformat": 4,
 "nbformat_minor": 4
}
